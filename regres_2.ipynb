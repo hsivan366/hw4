{
  "cells": [
    {
      "cell_type": "markdown",
      "metadata": {
        "id": "lzHPnl-vsc_h"
      },
      "source": [
        "# Regression\n",
        "\n",
        "## Important notes\n",
        "\n",
        "1. *When you open this file on GitHub, copy the address to this file from the address bar of your browser. Now you can go to [Google Colab](https://colab.research.google.com/), click `File -> Open notebook -> GitHub`, paste the copied URL and click the search button (the one with the magnifying glass to the right of the search input box). Your personal copy of this notebook will now open on Google Colab.*\n",
        "2. *Do not delete or change variable names in the code cells below. You may add to each cell as many lines of code as you need, just make sure to assign your solution to the predefined variable(s) in the corresponding cell. Failing to do so will make the tests fail.*\n",
        "3. *To save your work, click `File -> Save a copy on GitHub` and __make sure to manually select the correct repository from the dropdown list__.*\n",
        "4. *If you mess up with this file and need to start from scratch, you can always find the original notebook [here](https://github.com/hse-mlwp-2022/assignment4-template/blob/main/regression_exercise.ipynb). Just open it in Google Colab (see note 1) and save to your repository (see note 3). Remember to backup your code elsewhere, since this action will overwrite your previous work.*\n",
        "\n",
        "## Initialization\n",
        "\n",
        "### Import the libraries you need in the cell below"
      ]
    },
    {
      "cell_type": "code",
      "execution_count": 1,
      "metadata": {
        "id": "fWgcHiPMsc_k"
      },
      "outputs": [],
      "source": [
        "# Place your code here to import the libraries, e.g. pandas, numpy, sklearn, etc.\n",
        "import pandas as pd\n",
        "import numpy as np\n",
        "from sklearn.metrics import mean_squared_error as mse\n",
        "from sklearn.preprocessing import PolynomialFeatures\n",
        "import statsmodels.api as sm\n",
        "import matplotlib.pyplot as plt\n",
        "from scipy.interpolate import make_interp_spline"
      ]
    },
    {
      "cell_type": "markdown",
      "metadata": {
        "id": "N3xQOWjJsc_m"
      },
      "source": [
        "### 0. Find your task\n",
        "Follow the [link](https://docs.google.com/spreadsheets/d/194gX8uSUyqv_aQbJi8_TYuIgXHsDBtMDCofQ1uJ4GvA/edit?usp=sharing) to a Google Sheet with a list of students. Locate your name on the list and take note of the corresponding Student ID in the first column. Fill it in the cell below and run the cell. If you can't find yourself on the list, consult your course instructor."
      ]
    },
    {
      "cell_type": "code",
      "execution_count": 2,
      "metadata": {
        "id": "0H5NVZrfsc_n"
      },
      "outputs": [],
      "source": [
        "### BEGIN YOUR CODE\n",
        "\n",
        "Student_ID = 12\n",
        "\n",
        "### END YOUR CODE"
      ]
    },
    {
      "cell_type": "markdown",
      "metadata": {
        "id": "zM2EIYyxsc_n"
      },
      "source": [
        "Now run the next cell. It will print all information for you."
      ]
    },
    {
      "cell_type": "code",
      "execution_count": 3,
      "metadata": {
        "colab": {
          "base_uri": "https://localhost:8080/"
        },
        "id": "GTSWl1Snsc_o",
        "outputId": "22708dca-00ff-4de7-a878-02fd4f4d7ec5"
      },
      "outputs": [
        {
          "output_type": "stream",
          "name": "stdout",
          "text": [
            "TASKID is 2\n",
            "Please, choose a dataset No 2 below\n",
            "Your second model must be of power p = 3\n"
          ]
        }
      ],
      "source": [
        "task_id = None if Student_ID is None else Student_ID % 5 if Student_ID % 5 > 0 else 5\n",
        "_model_power = None if Student_ID is None else (Student_ID % 4) + 3\n",
        "if task_id is not None:\n",
        "    print(f\"TASKID is {task_id}\")\n",
        "    print(f\"Please, choose a dataset No {task_id} below\")\n",
        "    print(f\"Your second model must be of power p = {_model_power}\")\n",
        "else:\n",
        "    print(\"Please, enter your Student ID in the cell above!\")"
      ]
    },
    {
      "cell_type": "markdown",
      "metadata": {
        "id": "NsfFpKWasc_o"
      },
      "source": [
        "#### Datasets\n",
        "\n",
        "1. Poultry meat consumption in Europe, kilograms per person per year\n",
        "\n",
        "|     |     |     |     |     |     |     |     |     |     |     |\n",
        "| --- | --- | --- | --- | --- | --- | --- | --- | --- | --- | --- | \n",
        "| Year | 2000 | 2001 | 2002 | 2003 | 2004 | 2005 | 2006 | 2007 | 2008 | 2009 | \n",
        "| Consumption | 16.0 | 17.9 | 18.6 | 18.3 | 19.0 | 19.3 | 19.2 | 20.3 | 21.1 | 21.9 | \n",
        "\n",
        "2. Sugar consumption in Russia, grams per person per day\n",
        "\n",
        "|     |     |     |     |     |     |     |     |     |     |     |\n",
        "| --- | --- | --- | --- | --- | --- | --- | --- | --- | --- | --- | \n",
        "| Decade | 1950 | 1960 | 1970 | 1980 | 1990 | 2000 | 2015 |\n",
        "| Consumption | 32 | 85 | 115 | 130 | 130 | 96 | 107 |\n",
        "\n",
        "3. Poultry meat consumption in Asia, kilograms per person per year\n",
        "\n",
        "|     |     |     |     |     |     |     |     |     |     |     |\n",
        "| --- | --- | --- | --- | --- | --- | --- | --- | --- | --- | --- | \n",
        "| Year | 2000 | 2001 | 2002 | 2003 | 2004 | 2005 | 2006 | 2007 | 2008 | 2009 | \n",
        "| Consumption | 6.7 | 6.6 | 6.8 | 7.0 | 7.0 | 7.5 | 7.7 | 8.2 | 8.6 | 8.8 | \n",
        "\n",
        "4. Poultry meat consumption in Africa, kilograms per person per year\n",
        "\n",
        "|     |     |     |     |     |     |     |     |     |     |     |\n",
        "| --- | --- | --- | --- | --- | --- | --- | --- | --- | --- | --- | \n",
        "| Year | 2000 | 2001 | 2002 | 2003 | 2004 | 2005 | 2006 | 2007 | 2008 | 2009 | \n",
        "| Consumption | 4.2 | 4.3 | 4.5 | 4.7 | 4.6 | 4.7 | 4.8 | 5.2 | 5.4 | 5.5 | \n",
        "\n",
        "5. Demographic situation in Russia, number of marriages per 1000 people per year\n",
        "\n",
        "|     |     |     |     |     |     |     |     |     |     |     |\n",
        "| --- | --- | --- | --- | --- | --- | --- | --- | --- | --- | --- | \n",
        "| Year | 2011 | 2012 | 2013 | 2014 | 2015 | 2016 | 2017 | 2018 | 2019 | 2020 |\n",
        "| Marriages per 1000 population | 9.2 | 8.5 | 8.5 | 8.4 | 7.9 | 6.7 | 7.1 | 6.1 | 6.3 | 5.3 |\n"
      ]
    },
    {
      "cell_type": "markdown",
      "metadata": {
        "id": "5BOyLsOwsc_p"
      },
      "source": [
        "### 1. Define a pandas dataset with the data for your task\n",
        "[This](https://pandas.pydata.org/docs/reference/api/pandas.DataFrame.html) documentation might help.\n",
        "\n",
        "**Make sure to normalize your $x$ variable, i.e. replace years with sequential numbers 0, 1, ...**"
      ]
    },
    {
      "cell_type": "code",
      "execution_count": 4,
      "metadata": {
        "id": "qbBUml6isc_p"
      },
      "outputs": [],
      "source": [
        "df = pd.DataFrame(\n",
        "                  {\"x\": list(range(6))+[6.5],                     #2015 doesnt have a whole number of decades, so I need 6.5 instead of 6\n",
        "                   \"y\": [32,\t85,\t115,\t130,\t130,\t96,\t107\t]}\n",
        "                  )"
      ]
    },
    {
      "cell_type": "markdown",
      "metadata": {
        "id": "NJMuZquDsc_q"
      },
      "source": [
        "## First regression model\n",
        "\n",
        "You should build the following model:\n",
        "\n",
        "$$ y_1 = \\theta_2 \\cdot x^2 + \\theta_1 \\cdot x + \\theta_0 $$\n",
        "\n",
        "where $y$ is the response variable and $x$ is the explanatory variable (see description of your dataset).\n",
        "\n",
        "### 2. Define feature matrix $X$ for the first model (1 point)\n",
        "\n",
        "It should be a `numpy` array or a `pandas` dataframe"
      ]
    },
    {
      "cell_type": "code",
      "execution_count": 5,
      "metadata": {
        "id": "ODrResRWsc_q",
        "colab": {
          "base_uri": "https://localhost:8080/"
        },
        "outputId": "ca15f083-8292-4a38-be24-3f9ef03ab528"
      },
      "outputs": [
        {
          "output_type": "execute_result",
          "data": {
            "text/plain": [
              "array([[ 1.  ,  0.  ,  0.  ],\n",
              "       [ 1.  ,  1.  ,  1.  ],\n",
              "       [ 1.  ,  2.  ,  4.  ],\n",
              "       [ 1.  ,  3.  ,  9.  ],\n",
              "       [ 1.  ,  4.  , 16.  ],\n",
              "       [ 1.  ,  5.  , 25.  ],\n",
              "       [ 1.  ,  6.5 , 42.25]])"
            ]
          },
          "metadata": {},
          "execution_count": 5
        }
      ],
      "source": [
        "x = df.x.values\n",
        "feature_matrix_X = np.vstack((np.ones(len(x)),x,x**2)).T \n",
        "feature_matrix_X"
      ]
    },
    {
      "cell_type": "markdown",
      "metadata": {
        "id": "xwQ1IJuksc_r"
      },
      "source": [
        "### 3. Train first regression model with OLS method by using matrix multiplications (2 points)\n",
        "\n",
        "Use the entire dataset for training. You can find the formula on our lectures and in the seminar notebook.\n",
        "\n",
        "`first_model_coeffs` should be an iterable, e.g. a list or a numpy array"
      ]
    },
    {
      "cell_type": "code",
      "execution_count": 6,
      "metadata": {
        "id": "T46551cSsc_r",
        "colab": {
          "base_uri": "https://localhost:8080/"
        },
        "outputId": "585906fa-d192-436b-924b-ab4ef69df85b"
      },
      "outputs": [
        {
          "output_type": "stream",
          "name": "stdout",
          "text": [
            "Coefficints of the first regression model are '[41.12152436 43.56463337 -5.44463021]'\n"
          ]
        }
      ],
      "source": [
        "y = df.y.values\n",
        "first_model_coeffs = np.linalg.inv(feature_matrix_X.T.dot(feature_matrix_X)).dot(feature_matrix_X.T).dot(y)\n",
        "y_p1 = feature_matrix_X.dot(first_model_coeffs) \n",
        "print(f\"Coefficints of the first regression model are '{first_model_coeffs}'\") "
      ]
    },
    {
      "cell_type": "code",
      "source": [
        "plt.scatter(x,y)\n",
        "plt.plot(x, y_p1)\n",
        "plt.xlabel(\"X\")\n",
        "plt.ylabel(\"Y\")\n",
        "plt.show()"
      ],
      "metadata": {
        "colab": {
          "base_uri": "https://localhost:8080/",
          "height": 279
        },
        "id": "m9IVwpr1zGFU",
        "outputId": "ba1febcd-bf01-4c27-b36c-eae775b24ebe"
      },
      "execution_count": 7,
      "outputs": [
        {
          "output_type": "display_data",
          "data": {
            "text/plain": [
              "<Figure size 432x288 with 1 Axes>"
            ],
            "image/png": "[encoded data removed]"
          },
          "metadata": {
            "needs_background": "light"
          }
        }
      ]
    },
    {
      "cell_type": "markdown",
      "metadata": {
        "id": "PSQnc-ZNsc_s"
      },
      "source": [
        "## Second regression model\n",
        "\n",
        "Choose the power $p$ of your model (see step 0 above). You should build the following model:\n",
        "\n",
        "$$ y_2 = \\sum_{i=1}^{p}{\\theta_i \\cdot x^p} $$\n",
        "\n",
        "where $y$ is the response variable and $x$ is the explanatory variable (see description of your dataset) and $p$ is the power of the model.\n",
        "\n",
        "### 4. Train second regression model with OLS method using `stats.models.regression` module (2 points)\n",
        "\n",
        "`second_model_coeffs` should be an iterable, e.g. a list or a numpy array"
      ]
    },
    {
      "cell_type": "code",
      "source": [
        "x_1= np.reshape(x,(-1,1))\n",
        "y_1= np.reshape(y,(-1,1))\n",
        "polynomial_features= PolynomialFeatures(degree=3)\n",
        "x_1 = polynomial_features.fit_transform(x_1)\n",
        "reg = sm.OLS(y_1, x_1).fit()\n",
        "y_p2 = reg.predict(x_1) "
      ],
      "metadata": {
        "id": "2LaBnmurI6Lz"
      },
      "execution_count": 8,
      "outputs": []
    },
    {
      "cell_type": "code",
      "source": [
        "second_model_coeffs = reg.params\n",
        "print(f\"Coefficints of the second regression model are '{second_model_coeffs}'\")"
      ],
      "metadata": {
        "colab": {
          "base_uri": "https://localhost:8080/"
        },
        "id": "HlzeZRiXJeM2",
        "outputId": "da3e4d6f-3f35-485b-f68b-00a53616e6c3"
      },
      "execution_count": 9,
      "outputs": [
        {
          "output_type": "stream",
          "name": "stdout",
          "text": [
            "Coefficints of the second regression model are '[ 29.18179372  78.88253033 -20.0455522    1.4894831 ]'\n"
          ]
        }
      ]
    },
    {
      "cell_type": "code",
      "source": [
        "plt.scatter(x,y)\n",
        "plt.plot(x, y_p2)\n",
        "plt.xlabel(\"X\")\n",
        "plt.ylabel(\"Y\")\n",
        "plt.show()"
      ],
      "metadata": {
        "colab": {
          "base_uri": "https://localhost:8080/",
          "height": 279
        },
        "id": "FHAwaYHDzhfn",
        "outputId": "c58539ba-7837-4bd7-b3dc-a29a1573c712"
      },
      "execution_count": 10,
      "outputs": [
        {
          "output_type": "display_data",
          "data": {
            "text/plain": [
              "<Figure size 432x288 with 1 Axes>"
            ],
            "image/png": "[encoded data removed]"
          },
          "metadata": {
            "needs_background": "light"
          }
        }
      ]
    },
    {
      "cell_type": "markdown",
      "metadata": {
        "id": "h9q94W-Xsc_t"
      },
      "source": [
        "## Third regression model\n",
        "\n",
        "You should build the following model:\n",
        "\n",
        "$$ y_3 = \\theta_1 \\cdot x + \\theta_0 $$\n",
        "\n",
        "where $y$ is the response variable and $x$ is the explanatory variable (see description of your dataset).\n",
        "\n",
        "### 5. Train third regression model with gradient descent (3 points, optional)\n",
        "\n",
        "You can write your own function for gradient descent or find one on the Internet. It should be possible to change the initial value and learning rate.\n",
        "\n",
        "`third_model_coeffs` should be an iterable, e.g. a list or a numpy array"
      ]
    },
    {
      "cell_type": "code",
      "source": [
        "def grad(x,y,epochs = 10**6, learning_rate = 10**-4, teta_1 = 0, teta_0 = 0):\n",
        "  a = teta_1\n",
        "  b = teta_0\n",
        "  for i in range(epochs): \n",
        "      y_p = a*x + b\n",
        "      delta_a = -2 *(x * (y - y_p)).mean()\n",
        "      delta_b = -2 * (y - y_p).mean()\n",
        "      a -= learning_rate * delta_a\n",
        "      b -= learning_rate * delta_b \n",
        "  return a,b \n",
        "  "
      ],
      "metadata": {
        "id": "0h0WAfxSKgbS"
      },
      "execution_count": 11,
      "outputs": []
    },
    {
      "cell_type": "code",
      "execution_count": 12,
      "metadata": {
        "id": "s0rUc5zgsc_u",
        "colab": {
          "base_uri": "https://localhost:8080/"
        },
        "outputId": "69f985b4-8c2d-4c53-cfea-a6a1f8005e4b"
      },
      "outputs": [
        {
          "output_type": "stream",
          "name": "stdout",
          "text": [
            "Coefficints of the third regression model are '(8.551028169891508, 72.97604548167247)'\n"
          ]
        }
      ],
      "source": [
        "third_model_coeffs = grad(x,y, learning_rate = 10**-4, teta_1 = 0, teta_0 = 0)\n",
        "y_p3 = third_model_coeffs[0]*x+third_model_coeffs[1]   \n",
        "print(f\"Coefficints of the third regression model are '{third_model_coeffs}'\") "
      ]
    },
    {
      "cell_type": "code",
      "source": [
        "plt.scatter(x,y)\n",
        "plt.plot(x, y_p3)\n",
        "plt.xlabel(\"X\")\n",
        "plt.ylabel(\"Y\")\n",
        "plt.show()"
      ],
      "metadata": {
        "colab": {
          "base_uri": "https://localhost:8080/",
          "height": 279
        },
        "id": "zQ_XIwakzlHz",
        "outputId": "97cb6f7c-1bf9-4ae0-f2e4-0b752f634df6"
      },
      "execution_count": 13,
      "outputs": [
        {
          "output_type": "display_data",
          "data": {
            "text/plain": [
              "<Figure size 432x288 with 1 Axes>"
            ],
            "image/png": "[encoded data removed]"
          },
          "metadata": {
            "needs_background": "light"
          }
        }
      ]
    },
    {
      "cell_type": "markdown",
      "metadata": {
        "id": "wEfD1KvDsc_u"
      },
      "source": [
        "## Error estimation\n",
        "\n",
        "### 6. Calculate MSE and RMSE for all your regression models (2 points)\n",
        "\n",
        "Error estimations should be floating point numbers"
      ]
    },
    {
      "cell_type": "code",
      "execution_count": 14,
      "metadata": {
        "id": "SvMqMfo7sc_u"
      },
      "outputs": [],
      "source": [
        "first_model_mse = mse(y,y_p1)\n",
        "second_model_mse = mse(y,y_p2)\n",
        "third_model_mse = mse(y,y_p3)\n",
        "\n",
        "first_model_rmse = mse(y,y_p1,squared = False)\n",
        "second_model_rmse = mse(y,y_p2,squared = False)\n",
        "third_model_rmse = mse(y,y_p3,squared = False)"
      ]
    },
    {
      "cell_type": "code",
      "source": [
        "print(\"Среднеквадратическая ошибка каждой модели: \\n1)\", first_model_mse,'\\n2)',second_model_mse,'\\n3)',third_model_mse)"
      ],
      "metadata": {
        "colab": {
          "base_uri": "https://localhost:8080/"
        },
        "id": "ZXzDdlhhtSHA",
        "outputId": "08607836-f0e0-4794-dae8-ab70178d8112"
      },
      "execution_count": 15,
      "outputs": [
        {
          "output_type": "stream",
          "name": "stdout",
          "text": [
            "Среднеквадратическая ошибка каждой модели: \n",
            "1) 160.84776344612905 \n",
            "2) 49.09683650566347 \n",
            "3) 667.3043674321983\n"
          ]
        }
      ]
    },
    {
      "cell_type": "markdown",
      "metadata": {
        "id": "GRORLJTrsc_v"
      },
      "source": [
        "## Visualization\n",
        "\n",
        "### 7. Use `matplotlib` to visualize your results (graded manually, exam)\n",
        "\n",
        "You should build a single plot with all your models (2 or 3) drawn as curves/lines of different type and color. Additional points if you make the curves look smooth. Draw your dataset as dots on the same plot, do not connect them with lines."
      ]
    },
    {
      "cell_type": "code",
      "execution_count": 16,
      "metadata": {
        "id": "U1H1vfPtsc_v",
        "colab": {
          "base_uri": "https://localhost:8080/",
          "height": 295
        },
        "outputId": "5ce342eb-8ac4-4fe5-f0f4-36fb8880b63e"
      },
      "outputs": [
        {
          "output_type": "display_data",
          "data": {
            "text/plain": [
              "<Figure size 432x288 with 1 Axes>"
            ],
            "image/png": "[encoded data removed]"
          },
          "metadata": {
            "needs_background": "light"
          }
        }
      ],
      "source": [
        "q = np.linspace(x.min(), x.max(), 500) \n",
        "\n",
        "x_for_1 = np.vstack((np.ones(len(q)),q,q**2)).T \n",
        "q_1= np.reshape(q,(-1,1))\n",
        "q_1 = polynomial_features.fit_transform(q_1)\n",
        "\n",
        "p1 = x_for_1.dot(first_model_coeffs)\n",
        "p2 = reg.predict(q_1)\n",
        "p3 = third_model_coeffs[0]*q+third_model_coeffs[1]\n",
        "\n",
        "plt.scatter(x,y)\n",
        "plt.plot(q, p1,label = \"First_model\")\n",
        "plt.plot(q, p2,label = \"Second_model\")\n",
        "plt.plot(q, p3,label = \"Third_model\")\n",
        "plt.title(\"Smooth graph\")\n",
        "plt.xlabel(\"X\")\n",
        "plt.ylabel(\"Y\")\n",
        "leg = plt.legend()\n",
        "plt.show()"
      ]
    },
    {
      "cell_type": "markdown",
      "metadata": {
        "id": "cYgfwt3jsc_v"
      },
      "source": [
        "### 8. Prepare to discuss your results with the teacher (exam)\n",
        "\n",
        "Which model is better? Why? What else can you do to make the predictions better?"
      ]
    },
    {
      "cell_type": "markdown",
      "source": [
        "1) Как мы можем увидеть по mse, лучшей моделью является вторая, так как у нее ошибка меньше всего.\n",
        "\n",
        "2) В данном случае по распределению данных видно, что зависимость нелинейная, а значит чем выше степень у полинома, тем лучше он будет аппроксимировать точки. Поэтому вторая модель, у которой степень многочлена 3, что больше чем 2 и 1 у остальных моделей, показывает лучшие результаты.\n",
        "\n",
        "3) Повысить точность регрессии может предварительная обработка данных. Например, если какая-то точка сильно выпадает из общей картины, то возможно она является выбросом и её не следует учитывать. Можно попробовать увеличить степень аппроксимирующего многочлена, чтобы лучше улавливать скрытые закономерности в данных. Но надо следить, чтобы сложность модели не превосходила сложность данных."
      ],
      "metadata": {
        "id": "bsE0cAots2bt"
      }
    }
  ],
  "metadata": {
    "colab": {
      "provenance": [],
      "collapsed_sections": []
    },
    "kernelspec": {
      "display_name": "Python 3",
      "language": "python",
      "name": "python3"
    },
    "language_info": {
      "codemirror_mode": {
        "name": "ipython",
        "version": 3
      },
      "file_extension": ".py",
      "mimetype": "text/x-python",
      "name": "python",
      "nbconvert_exporter": "python",
      "pygments_lexer": "ipython3",
      "version": "3.9.7"
    }
  },
  "nbformat": 4,
  "nbformat_minor": 0
}